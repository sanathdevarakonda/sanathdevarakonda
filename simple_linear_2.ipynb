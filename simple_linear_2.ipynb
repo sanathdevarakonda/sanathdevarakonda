{
 "cells": [
  {
   "cell_type": "code",
   "execution_count": 1,
   "id": "f70cb6ec",
   "metadata": {
    "ExecuteTime": {
     "end_time": "2022-06-15T05:41:00.659027Z",
     "start_time": "2022-06-15T05:40:55.736202Z"
    }
   },
   "outputs": [],
   "source": [
    "import pandas as pd \n",
    "import numpy as np\n",
    "import matplotlib.pyplot as plt\n",
    "import seaborn as sns\n",
    "import matplotlib.pyplot as plt\n",
    "plt.style.use('ggplot')"
   ]
  },
  {
   "cell_type": "code",
   "execution_count": 2,
   "id": "a1c7be1f",
   "metadata": {
    "ExecuteTime": {
     "end_time": "2022-06-15T05:41:00.747223Z",
     "start_time": "2022-06-15T05:41:00.663544Z"
    }
   },
   "outputs": [
    {
     "data": {
      "text/html": [
       "<div>\n",
       "<style scoped>\n",
       "    .dataframe tbody tr th:only-of-type {\n",
       "        vertical-align: middle;\n",
       "    }\n",
       "\n",
       "    .dataframe tbody tr th {\n",
       "        vertical-align: top;\n",
       "    }\n",
       "\n",
       "    .dataframe thead th {\n",
       "        text-align: right;\n",
       "    }\n",
       "</style>\n",
       "<table border=\"1\" class=\"dataframe\">\n",
       "  <thead>\n",
       "    <tr style=\"text-align: right;\">\n",
       "      <th></th>\n",
       "      <th>DT</th>\n",
       "      <th>ST</th>\n",
       "    </tr>\n",
       "  </thead>\n",
       "  <tbody>\n",
       "    <tr>\n",
       "      <th>0</th>\n",
       "      <td>21.00</td>\n",
       "      <td>10</td>\n",
       "    </tr>\n",
       "    <tr>\n",
       "      <th>1</th>\n",
       "      <td>13.50</td>\n",
       "      <td>4</td>\n",
       "    </tr>\n",
       "    <tr>\n",
       "      <th>2</th>\n",
       "      <td>19.75</td>\n",
       "      <td>6</td>\n",
       "    </tr>\n",
       "    <tr>\n",
       "      <th>3</th>\n",
       "      <td>24.00</td>\n",
       "      <td>9</td>\n",
       "    </tr>\n",
       "    <tr>\n",
       "      <th>4</th>\n",
       "      <td>29.00</td>\n",
       "      <td>10</td>\n",
       "    </tr>\n",
       "    <tr>\n",
       "      <th>5</th>\n",
       "      <td>15.35</td>\n",
       "      <td>6</td>\n",
       "    </tr>\n",
       "    <tr>\n",
       "      <th>6</th>\n",
       "      <td>19.00</td>\n",
       "      <td>7</td>\n",
       "    </tr>\n",
       "    <tr>\n",
       "      <th>7</th>\n",
       "      <td>9.50</td>\n",
       "      <td>3</td>\n",
       "    </tr>\n",
       "    <tr>\n",
       "      <th>8</th>\n",
       "      <td>17.90</td>\n",
       "      <td>10</td>\n",
       "    </tr>\n",
       "    <tr>\n",
       "      <th>9</th>\n",
       "      <td>18.75</td>\n",
       "      <td>9</td>\n",
       "    </tr>\n",
       "    <tr>\n",
       "      <th>10</th>\n",
       "      <td>19.83</td>\n",
       "      <td>8</td>\n",
       "    </tr>\n",
       "    <tr>\n",
       "      <th>11</th>\n",
       "      <td>10.75</td>\n",
       "      <td>4</td>\n",
       "    </tr>\n",
       "    <tr>\n",
       "      <th>12</th>\n",
       "      <td>16.68</td>\n",
       "      <td>7</td>\n",
       "    </tr>\n",
       "    <tr>\n",
       "      <th>13</th>\n",
       "      <td>11.50</td>\n",
       "      <td>3</td>\n",
       "    </tr>\n",
       "    <tr>\n",
       "      <th>14</th>\n",
       "      <td>12.03</td>\n",
       "      <td>3</td>\n",
       "    </tr>\n",
       "    <tr>\n",
       "      <th>15</th>\n",
       "      <td>14.88</td>\n",
       "      <td>4</td>\n",
       "    </tr>\n",
       "    <tr>\n",
       "      <th>16</th>\n",
       "      <td>13.75</td>\n",
       "      <td>6</td>\n",
       "    </tr>\n",
       "    <tr>\n",
       "      <th>17</th>\n",
       "      <td>18.11</td>\n",
       "      <td>7</td>\n",
       "    </tr>\n",
       "    <tr>\n",
       "      <th>18</th>\n",
       "      <td>8.00</td>\n",
       "      <td>2</td>\n",
       "    </tr>\n",
       "    <tr>\n",
       "      <th>19</th>\n",
       "      <td>17.83</td>\n",
       "      <td>7</td>\n",
       "    </tr>\n",
       "    <tr>\n",
       "      <th>20</th>\n",
       "      <td>21.50</td>\n",
       "      <td>5</td>\n",
       "    </tr>\n",
       "  </tbody>\n",
       "</table>\n",
       "</div>"
      ],
      "text/plain": [
       "       DT  ST\n",
       "0   21.00  10\n",
       "1   13.50   4\n",
       "2   19.75   6\n",
       "3   24.00   9\n",
       "4   29.00  10\n",
       "5   15.35   6\n",
       "6   19.00   7\n",
       "7    9.50   3\n",
       "8   17.90  10\n",
       "9   18.75   9\n",
       "10  19.83   8\n",
       "11  10.75   4\n",
       "12  16.68   7\n",
       "13  11.50   3\n",
       "14  12.03   3\n",
       "15  14.88   4\n",
       "16  13.75   6\n",
       "17  18.11   7\n",
       "18   8.00   2\n",
       "19  17.83   7\n",
       "20  21.50   5"
      ]
     },
     "execution_count": 2,
     "metadata": {},
     "output_type": "execute_result"
    }
   ],
   "source": [
    "delivery_time=pd.read_csv(\"delivery_time.csv\")\n",
    "delivery_time"
   ]
  },
  {
   "cell_type": "code",
   "execution_count": 3,
   "id": "97520fe2",
   "metadata": {
    "ExecuteTime": {
     "end_time": "2022-06-15T05:41:00.765696Z",
     "start_time": "2022-06-15T05:41:00.750494Z"
    }
   },
   "outputs": [
    {
     "data": {
      "text/plain": [
       "Index(['DT', 'ST'], dtype='object')"
      ]
     },
     "execution_count": 3,
     "metadata": {},
     "output_type": "execute_result"
    }
   ],
   "source": [
    "delivery_time.columns"
   ]
  },
  {
   "cell_type": "code",
   "execution_count": 4,
   "id": "cc948a29",
   "metadata": {
    "ExecuteTime": {
     "end_time": "2022-06-15T05:41:00.799368Z",
     "start_time": "2022-06-15T05:41:00.769535Z"
    }
   },
   "outputs": [
    {
     "data": {
      "text/html": [
       "<div>\n",
       "<style scoped>\n",
       "    .dataframe tbody tr th:only-of-type {\n",
       "        vertical-align: middle;\n",
       "    }\n",
       "\n",
       "    .dataframe tbody tr th {\n",
       "        vertical-align: top;\n",
       "    }\n",
       "\n",
       "    .dataframe thead th {\n",
       "        text-align: right;\n",
       "    }\n",
       "</style>\n",
       "<table border=\"1\" class=\"dataframe\">\n",
       "  <thead>\n",
       "    <tr style=\"text-align: right;\">\n",
       "      <th></th>\n",
       "      <th>DT</th>\n",
       "      <th>ST</th>\n",
       "    </tr>\n",
       "  </thead>\n",
       "  <tbody>\n",
       "    <tr>\n",
       "      <th>0</th>\n",
       "      <td>21.00</td>\n",
       "      <td>10</td>\n",
       "    </tr>\n",
       "    <tr>\n",
       "      <th>1</th>\n",
       "      <td>13.50</td>\n",
       "      <td>4</td>\n",
       "    </tr>\n",
       "    <tr>\n",
       "      <th>2</th>\n",
       "      <td>19.75</td>\n",
       "      <td>6</td>\n",
       "    </tr>\n",
       "    <tr>\n",
       "      <th>3</th>\n",
       "      <td>24.00</td>\n",
       "      <td>9</td>\n",
       "    </tr>\n",
       "    <tr>\n",
       "      <th>4</th>\n",
       "      <td>29.00</td>\n",
       "      <td>10</td>\n",
       "    </tr>\n",
       "  </tbody>\n",
       "</table>\n",
       "</div>"
      ],
      "text/plain": [
       "      DT  ST\n",
       "0  21.00  10\n",
       "1  13.50   4\n",
       "2  19.75   6\n",
       "3  24.00   9\n",
       "4  29.00  10"
      ]
     },
     "execution_count": 4,
     "metadata": {},
     "output_type": "execute_result"
    }
   ],
   "source": [
    "delivery_time.head()"
   ]
  },
  {
   "cell_type": "code",
   "execution_count": 5,
   "id": "09f6f71a",
   "metadata": {
    "ExecuteTime": {
     "end_time": "2022-06-15T05:41:00.852090Z",
     "start_time": "2022-06-15T05:41:00.803822Z"
    }
   },
   "outputs": [
    {
     "data": {
      "text/html": [
       "<div>\n",
       "<style scoped>\n",
       "    .dataframe tbody tr th:only-of-type {\n",
       "        vertical-align: middle;\n",
       "    }\n",
       "\n",
       "    .dataframe tbody tr th {\n",
       "        vertical-align: top;\n",
       "    }\n",
       "\n",
       "    .dataframe thead th {\n",
       "        text-align: right;\n",
       "    }\n",
       "</style>\n",
       "<table border=\"1\" class=\"dataframe\">\n",
       "  <thead>\n",
       "    <tr style=\"text-align: right;\">\n",
       "      <th></th>\n",
       "      <th>DT</th>\n",
       "      <th>ST</th>\n",
       "    </tr>\n",
       "  </thead>\n",
       "  <tbody>\n",
       "    <tr>\n",
       "      <th>count</th>\n",
       "      <td>21.000000</td>\n",
       "      <td>21.000000</td>\n",
       "    </tr>\n",
       "    <tr>\n",
       "      <th>mean</th>\n",
       "      <td>16.790952</td>\n",
       "      <td>6.190476</td>\n",
       "    </tr>\n",
       "    <tr>\n",
       "      <th>std</th>\n",
       "      <td>5.074901</td>\n",
       "      <td>2.542028</td>\n",
       "    </tr>\n",
       "    <tr>\n",
       "      <th>min</th>\n",
       "      <td>8.000000</td>\n",
       "      <td>2.000000</td>\n",
       "    </tr>\n",
       "    <tr>\n",
       "      <th>25%</th>\n",
       "      <td>13.500000</td>\n",
       "      <td>4.000000</td>\n",
       "    </tr>\n",
       "    <tr>\n",
       "      <th>50%</th>\n",
       "      <td>17.830000</td>\n",
       "      <td>6.000000</td>\n",
       "    </tr>\n",
       "    <tr>\n",
       "      <th>75%</th>\n",
       "      <td>19.750000</td>\n",
       "      <td>8.000000</td>\n",
       "    </tr>\n",
       "    <tr>\n",
       "      <th>max</th>\n",
       "      <td>29.000000</td>\n",
       "      <td>10.000000</td>\n",
       "    </tr>\n",
       "  </tbody>\n",
       "</table>\n",
       "</div>"
      ],
      "text/plain": [
       "              DT         ST\n",
       "count  21.000000  21.000000\n",
       "mean   16.790952   6.190476\n",
       "std     5.074901   2.542028\n",
       "min     8.000000   2.000000\n",
       "25%    13.500000   4.000000\n",
       "50%    17.830000   6.000000\n",
       "75%    19.750000   8.000000\n",
       "max    29.000000  10.000000"
      ]
     },
     "execution_count": 5,
     "metadata": {},
     "output_type": "execute_result"
    }
   ],
   "source": [
    "delivery_time.describe()"
   ]
  },
  {
   "cell_type": "code",
   "execution_count": 6,
   "id": "be99291e",
   "metadata": {
    "ExecuteTime": {
     "end_time": "2022-06-15T05:41:01.395419Z",
     "start_time": "2022-06-15T05:41:00.855093Z"
    }
   },
   "outputs": [
    {
     "data": {
      "image/png": "[encoded data removed]",
      "text/plain": [
       "<Figure size 432x288 with 1 Axes>"
      ]
     },
     "metadata": {},
     "output_type": "display_data"
    }
   ],
   "source": [
    "plt.boxplot(delivery_time.DT)\n",
    "plt.xlabel('DT')\n",
    "plt.ylabel('No Of Observations')\n",
    "plt.title('Boxplot')\n",
    "plt.show()"
   ]
  },
  {
   "cell_type": "code",
   "execution_count": 7,
   "id": "a53f0c03",
   "metadata": {
    "ExecuteTime": {
     "end_time": "2022-06-15T05:41:01.749482Z",
     "start_time": "2022-06-15T05:41:01.399407Z"
    },
    "scrolled": false
   },
   "outputs": [
    {
     "data": {
      "image/png": "[encoded data removed]",
      "text/plain": [
       "<Figure size 432x288 with 1 Axes>"
      ]
     },
     "metadata": {},
     "output_type": "display_data"
    },
    {
     "data": {
      "text/html": [
       "<div>\n",
       "<style scoped>\n",
       "    .dataframe tbody tr th:only-of-type {\n",
       "        vertical-align: middle;\n",
       "    }\n",
       "\n",
       "    .dataframe tbody tr th {\n",
       "        vertical-align: top;\n",
       "    }\n",
       "\n",
       "    .dataframe thead th {\n",
       "        text-align: right;\n",
       "    }\n",
       "</style>\n",
       "<table border=\"1\" class=\"dataframe\">\n",
       "  <thead>\n",
       "    <tr style=\"text-align: right;\">\n",
       "      <th></th>\n",
       "      <th>DT</th>\n",
       "      <th>ST</th>\n",
       "    </tr>\n",
       "  </thead>\n",
       "  <tbody>\n",
       "    <tr>\n",
       "      <th>count</th>\n",
       "      <td>21.000000</td>\n",
       "      <td>21.000000</td>\n",
       "    </tr>\n",
       "    <tr>\n",
       "      <th>mean</th>\n",
       "      <td>16.790952</td>\n",
       "      <td>6.190476</td>\n",
       "    </tr>\n",
       "    <tr>\n",
       "      <th>std</th>\n",
       "      <td>5.074901</td>\n",
       "      <td>2.542028</td>\n",
       "    </tr>\n",
       "    <tr>\n",
       "      <th>min</th>\n",
       "      <td>8.000000</td>\n",
       "      <td>2.000000</td>\n",
       "    </tr>\n",
       "    <tr>\n",
       "      <th>25%</th>\n",
       "      <td>13.500000</td>\n",
       "      <td>4.000000</td>\n",
       "    </tr>\n",
       "    <tr>\n",
       "      <th>50%</th>\n",
       "      <td>17.830000</td>\n",
       "      <td>6.000000</td>\n",
       "    </tr>\n",
       "    <tr>\n",
       "      <th>75%</th>\n",
       "      <td>19.750000</td>\n",
       "      <td>8.000000</td>\n",
       "    </tr>\n",
       "    <tr>\n",
       "      <th>max</th>\n",
       "      <td>29.000000</td>\n",
       "      <td>10.000000</td>\n",
       "    </tr>\n",
       "  </tbody>\n",
       "</table>\n",
       "</div>"
      ],
      "text/plain": [
       "              DT         ST\n",
       "count  21.000000  21.000000\n",
       "mean   16.790952   6.190476\n",
       "std     5.074901   2.542028\n",
       "min     8.000000   2.000000\n",
       "25%    13.500000   4.000000\n",
       "50%    17.830000   6.000000\n",
       "75%    19.750000   8.000000\n",
       "max    29.000000  10.000000"
      ]
     },
     "execution_count": 7,
     "metadata": {},
     "output_type": "execute_result"
    }
   ],
   "source": [
    "plt.hist(delivery_time.DT)\n",
    "plt.xlabel('DT')\n",
    "plt.ylabel('density')\n",
    "plt.title('Histogram')\n",
    "plt.show()\n",
    "delivery_time.describe()"
   ]
  },
  {
   "cell_type": "code",
   "execution_count": 8,
   "id": "65ec3023",
   "metadata": {
    "ExecuteTime": {
     "end_time": "2022-06-15T05:41:01.999213Z",
     "start_time": "2022-06-15T05:41:01.753845Z"
    }
   },
   "outputs": [
    {
     "data": {
      "image/png": "[encoded data removed]",
      "text/plain": [
       "<Figure size 432x288 with 1 Axes>"
      ]
     },
     "metadata": {},
     "output_type": "display_data"
    }
   ],
   "source": [
    "plt.boxplot(delivery_time.ST)\n",
    "plt.xlabel('ST')\n",
    "plt.ylabel('No Of Observations')\n",
    "plt.title('BoxPlot')\n",
    "plt.show()"
   ]
  },
  {
   "cell_type": "code",
   "execution_count": 9,
   "id": "edabde6f",
   "metadata": {
    "ExecuteTime": {
     "end_time": "2022-06-15T05:41:02.342771Z",
     "start_time": "2022-06-15T05:41:02.002756Z"
    }
   },
   "outputs": [
    {
     "data": {
      "image/png": "[encoded data removed]",
      "text/plain": [
       "<Figure size 432x288 with 1 Axes>"
      ]
     },
     "metadata": {},
     "output_type": "display_data"
    }
   ],
   "source": [
    "plt.hist(delivery_time.ST)\n",
    "plt.xlabel('ST')\n",
    "plt.ylabel('Density')\n",
    "plt.title('Histogram')\n",
    "plt.show()"
   ]
  },
  {
   "cell_type": "code",
   "execution_count": 10,
   "id": "1aa71daa",
   "metadata": {
    "ExecuteTime": {
     "end_time": "2022-06-15T05:41:02.612868Z",
     "start_time": "2022-06-15T05:41:02.347693Z"
    }
   },
   "outputs": [
    {
     "data": {
      "image/png": "[encoded data removed]",
      "text/plain": [
       "<Figure size 432x288 with 1 Axes>"
      ]
     },
     "metadata": {},
     "output_type": "display_data"
    }
   ],
   "source": [
    "plt.plot(delivery_time.ST,delivery_time.DT,\"bo\")\n",
    "plt.xlabel('Sorting Time')\n",
    "plt.ylabel('Delivery Time')\n",
    "plt.title('Scatter Plot')\n",
    "plt.show()"
   ]
  },
  {
   "cell_type": "code",
   "execution_count": 11,
   "id": "63221d19",
   "metadata": {
    "ExecuteTime": {
     "end_time": "2022-06-15T05:41:02.668160Z",
     "start_time": "2022-06-15T05:41:02.615571Z"
    }
   },
   "outputs": [
    {
     "data": {
      "text/plain": [
       "0.8259972607955326"
      ]
     },
     "execution_count": 11,
     "metadata": {},
     "output_type": "execute_result"
    }
   ],
   "source": [
    "delivery_time.DT.corr(delivery_time.ST)"
   ]
  },
  {
   "cell_type": "code",
   "execution_count": 12,
   "id": "47f63458",
   "metadata": {
    "ExecuteTime": {
     "end_time": "2022-06-15T05:41:03.128280Z",
     "start_time": "2022-06-15T05:41:02.672045Z"
    }
   },
   "outputs": [
    {
     "data": {
      "text/plain": [
       "Intercept    6.582734\n",
       "ST           1.649020\n",
       "dtype: float64"
      ]
     },
     "execution_count": 12,
     "metadata": {},
     "output_type": "execute_result"
    }
   ],
   "source": [
    "import statsmodels.formula.api as smf\n",
    "model_1 = smf.ols(\"DT~ST\",data=delivery_time).fit()\n",
    "model_1.params"
   ]
  },
  {
   "cell_type": "code",
   "execution_count": 13,
   "id": "b5bb0565",
   "metadata": {
    "ExecuteTime": {
     "end_time": "2022-06-15T05:41:03.203219Z",
     "start_time": "2022-06-15T05:41:03.132191Z"
    }
   },
   "outputs": [
    {
     "data": {
      "text/html": [
       "<table class=\"simpletable\">\n",
       "<caption>OLS Regression Results</caption>\n",
       "<tr>\n",
       "  <th>Dep. Variable:</th>           <td>DT</td>        <th>  R-squared:         </th> <td>   0.682</td>\n",
       "</tr>\n",
       "<tr>\n",
       "  <th>Model:</th>                   <td>OLS</td>       <th>  Adj. R-squared:    </th> <td>   0.666</td>\n",
       "</tr>\n",
       "<tr>\n",
       "  <th>Method:</th>             <td>Least Squares</td>  <th>  F-statistic:       </th> <td>   40.80</td>\n",
       "</tr>\n",
       "<tr>\n",
       "  <th>Date:</th>             <td>Wed, 15 Jun 2022</td> <th>  Prob (F-statistic):</th> <td>3.98e-06</td>\n",
       "</tr>\n",
       "<tr>\n",
       "  <th>Time:</th>                 <td>11:11:03</td>     <th>  Log-Likelihood:    </th> <td> -51.357</td>\n",
       "</tr>\n",
       "<tr>\n",
       "  <th>No. Observations:</th>      <td>    21</td>      <th>  AIC:               </th> <td>   106.7</td>\n",
       "</tr>\n",
       "<tr>\n",
       "  <th>Df Residuals:</th>          <td>    19</td>      <th>  BIC:               </th> <td>   108.8</td>\n",
       "</tr>\n",
       "<tr>\n",
       "  <th>Df Model:</th>              <td>     1</td>      <th>                     </th>     <td> </td>   \n",
       "</tr>\n",
       "<tr>\n",
       "  <th>Covariance Type:</th>      <td>nonrobust</td>    <th>                     </th>     <td> </td>   \n",
       "</tr>\n",
       "</table>\n",
       "<table class=\"simpletable\">\n",
       "<tr>\n",
       "      <td></td>         <th>coef</th>     <th>std err</th>      <th>t</th>      <th>P>|t|</th>  <th>[0.025</th>    <th>0.975]</th>  \n",
       "</tr>\n",
       "<tr>\n",
       "  <th>Intercept</th> <td>    6.5827</td> <td>    1.722</td> <td>    3.823</td> <td> 0.001</td> <td>    2.979</td> <td>   10.186</td>\n",
       "</tr>\n",
       "<tr>\n",
       "  <th>ST</th>        <td>    1.6490</td> <td>    0.258</td> <td>    6.387</td> <td> 0.000</td> <td>    1.109</td> <td>    2.189</td>\n",
       "</tr>\n",
       "</table>\n",
       "<table class=\"simpletable\">\n",
       "<tr>\n",
       "  <th>Omnibus:</th>       <td> 3.649</td> <th>  Durbin-Watson:     </th> <td>   1.248</td>\n",
       "</tr>\n",
       "<tr>\n",
       "  <th>Prob(Omnibus):</th> <td> 0.161</td> <th>  Jarque-Bera (JB):  </th> <td>   2.086</td>\n",
       "</tr>\n",
       "<tr>\n",
       "  <th>Skew:</th>          <td> 0.750</td> <th>  Prob(JB):          </th> <td>   0.352</td>\n",
       "</tr>\n",
       "<tr>\n",
       "  <th>Kurtosis:</th>      <td> 3.367</td> <th>  Cond. No.          </th> <td>    18.3</td>\n",
       "</tr>\n",
       "</table><br/><br/>Notes:<br/>[1] Standard Errors assume that the covariance matrix of the errors is correctly specified."
      ],
      "text/plain": [
       "<class 'statsmodels.iolib.summary.Summary'>\n",
       "\"\"\"\n",
       "                            OLS Regression Results                            \n",
       "==============================================================================\n",
       "Dep. Variable:                     DT   R-squared:                       0.682\n",
       "Model:                            OLS   Adj. R-squared:                  0.666\n",
       "Method:                 Least Squares   F-statistic:                     40.80\n",
       "Date:                Wed, 15 Jun 2022   Prob (F-statistic):           3.98e-06\n",
       "Time:                        11:11:03   Log-Likelihood:                -51.357\n",
       "No. Observations:                  21   AIC:                             106.7\n",
       "Df Residuals:                      19   BIC:                             108.8\n",
       "Df Model:                           1                                         \n",
       "Covariance Type:            nonrobust                                         \n",
       "==============================================================================\n",
       "                 coef    std err          t      P>|t|      [0.025      0.975]\n",
       "------------------------------------------------------------------------------\n",
       "Intercept      6.5827      1.722      3.823      0.001       2.979      10.186\n",
       "ST             1.6490      0.258      6.387      0.000       1.109       2.189\n",
       "==============================================================================\n",
       "Omnibus:                        3.649   Durbin-Watson:                   1.248\n",
       "Prob(Omnibus):                  0.161   Jarque-Bera (JB):                2.086\n",
       "Skew:                           0.750   Prob(JB):                        0.352\n",
       "Kurtosis:                       3.367   Cond. No.                         18.3\n",
       "==============================================================================\n",
       "\n",
       "Notes:\n",
       "[1] Standard Errors assume that the covariance matrix of the errors is correctly specified.\n",
       "\"\"\""
      ]
     },
     "execution_count": 13,
     "metadata": {},
     "output_type": "execute_result"
    }
   ],
   "source": [
    "model_1.summary()"
   ]
  },
  {
   "cell_type": "code",
   "execution_count": 14,
   "id": "86734613",
   "metadata": {
    "ExecuteTime": {
     "end_time": "2022-06-15T05:41:03.221043Z",
     "start_time": "2022-06-15T05:41:03.213013Z"
    }
   },
   "outputs": [
    {
     "data": {
      "text/plain": [
       "0    -2.072933\n",
       "1     0.321186\n",
       "2     3.273147\n",
       "3     2.576087\n",
       "4     5.927067\n",
       "5    -1.126853\n",
       "6     0.874127\n",
       "7    -2.029794\n",
       "8    -5.172933\n",
       "9    -2.673913\n",
       "10    0.055107\n",
       "11   -2.428814\n",
       "12   -1.445873\n",
       "13   -0.029794\n",
       "14    0.500206\n",
       "15    1.701186\n",
       "16   -2.726853\n",
       "17   -0.015873\n",
       "18   -1.880774\n",
       "19   -0.295873\n",
       "20    6.672167\n",
       "dtype: float64"
      ]
     },
     "execution_count": 14,
     "metadata": {},
     "output_type": "execute_result"
    }
   ],
   "source": [
    "model_1.resid"
   ]
  },
  {
   "cell_type": "code",
   "execution_count": 15,
   "id": "42f5db69",
   "metadata": {
    "ExecuteTime": {
     "end_time": "2022-06-15T05:41:03.244879Z",
     "start_time": "2022-06-15T05:41:03.224197Z"
    }
   },
   "outputs": [
    {
     "data": {
      "text/plain": [
       "0     23.072933\n",
       "1     13.178814\n",
       "2     16.476853\n",
       "3     21.423913\n",
       "4     23.072933\n",
       "5     16.476853\n",
       "6     18.125873\n",
       "7     11.529794\n",
       "8     23.072933\n",
       "9     21.423913\n",
       "10    19.774893\n",
       "11    13.178814\n",
       "12    18.125873\n",
       "13    11.529794\n",
       "14    11.529794\n",
       "15    13.178814\n",
       "16    16.476853\n",
       "17    18.125873\n",
       "18     9.880774\n",
       "19    18.125873\n",
       "20    14.827833\n",
       "dtype: float64"
      ]
     },
     "execution_count": 15,
     "metadata": {},
     "output_type": "execute_result"
    }
   ],
   "source": [
    "pred = model_1.predict(delivery_time.ST)\n",
    "pred"
   ]
  },
  {
   "cell_type": "code",
   "execution_count": 16,
   "id": "2b418d19",
   "metadata": {
    "ExecuteTime": {
     "end_time": "2022-06-15T05:41:03.260954Z",
     "start_time": "2022-06-15T05:41:03.246281Z"
    }
   },
   "outputs": [
    {
     "data": {
      "text/plain": [
       "2.7916503270617654"
      ]
     },
     "execution_count": 16,
     "metadata": {},
     "output_type": "execute_result"
    }
   ],
   "source": [
    "rmse_lin = np.sqrt(np.mean((np.array(delivery_time['DT'])-np.array(pred))**2))\n",
    "rmse_lin"
   ]
  },
  {
   "cell_type": "code",
   "execution_count": 39,
   "id": "7e5f65c1",
   "metadata": {
    "ExecuteTime": {
     "end_time": "2022-06-15T05:41:13.944926Z",
     "start_time": "2022-06-15T05:41:13.733061Z"
    }
   },
   "outputs": [
    {
     "data": {
      "text/plain": [
       "[]"
      ]
     },
     "execution_count": 39,
     "metadata": {},
     "output_type": "execute_result"
    },
    {
     "data": {
      "image/png": "[encoded data removed]",
      "text/plain": [
       "<Figure size 432x288 with 1 Axes>"
      ]
     },
     "metadata": {},
     "output_type": "display_data"
    }
   ],
   "source": [
    "plt.plot()"
   ]
  },
  {
   "cell_type": "code",
   "execution_count": 18,
   "id": "48b56624",
   "metadata": {
    "ExecuteTime": {
     "end_time": "2022-06-15T05:41:03.574496Z",
     "start_time": "2022-06-15T05:41:03.521820Z"
    }
   },
   "outputs": [
    {
     "data": {
      "text/plain": [
       "Intercept     1.159684\n",
       "np.log(ST)    9.043413\n",
       "dtype: float64"
      ]
     },
     "execution_count": 18,
     "metadata": {},
     "output_type": "execute_result"
    }
   ],
   "source": [
    "import statsmodels.formula.api as smf\n",
    "model_2 = smf.ols('DT~np.log(ST)',data=delivery_time).fit()\n",
    "model_2.params\n"
   ]
  },
  {
   "cell_type": "code",
   "execution_count": 19,
   "id": "e28befb3",
   "metadata": {
    "ExecuteTime": {
     "end_time": "2022-06-15T05:41:03.614848Z",
     "start_time": "2022-06-15T05:41:03.578579Z"
    }
   },
   "outputs": [
    {
     "data": {
      "text/html": [
       "<table class=\"simpletable\">\n",
       "<caption>OLS Regression Results</caption>\n",
       "<tr>\n",
       "  <th>Dep. Variable:</th>           <td>DT</td>        <th>  R-squared:         </th> <td>   0.695</td>\n",
       "</tr>\n",
       "<tr>\n",
       "  <th>Model:</th>                   <td>OLS</td>       <th>  Adj. R-squared:    </th> <td>   0.679</td>\n",
       "</tr>\n",
       "<tr>\n",
       "  <th>Method:</th>             <td>Least Squares</td>  <th>  F-statistic:       </th> <td>   43.39</td>\n",
       "</tr>\n",
       "<tr>\n",
       "  <th>Date:</th>             <td>Wed, 15 Jun 2022</td> <th>  Prob (F-statistic):</th> <td>2.64e-06</td>\n",
       "</tr>\n",
       "<tr>\n",
       "  <th>Time:</th>                 <td>11:11:03</td>     <th>  Log-Likelihood:    </th> <td> -50.912</td>\n",
       "</tr>\n",
       "<tr>\n",
       "  <th>No. Observations:</th>      <td>    21</td>      <th>  AIC:               </th> <td>   105.8</td>\n",
       "</tr>\n",
       "<tr>\n",
       "  <th>Df Residuals:</th>          <td>    19</td>      <th>  BIC:               </th> <td>   107.9</td>\n",
       "</tr>\n",
       "<tr>\n",
       "  <th>Df Model:</th>              <td>     1</td>      <th>                     </th>     <td> </td>   \n",
       "</tr>\n",
       "<tr>\n",
       "  <th>Covariance Type:</th>      <td>nonrobust</td>    <th>                     </th>     <td> </td>   \n",
       "</tr>\n",
       "</table>\n",
       "<table class=\"simpletable\">\n",
       "<tr>\n",
       "       <td></td>         <th>coef</th>     <th>std err</th>      <th>t</th>      <th>P>|t|</th>  <th>[0.025</th>    <th>0.975]</th>  \n",
       "</tr>\n",
       "<tr>\n",
       "  <th>Intercept</th>  <td>    1.1597</td> <td>    2.455</td> <td>    0.472</td> <td> 0.642</td> <td>   -3.978</td> <td>    6.297</td>\n",
       "</tr>\n",
       "<tr>\n",
       "  <th>np.log(ST)</th> <td>    9.0434</td> <td>    1.373</td> <td>    6.587</td> <td> 0.000</td> <td>    6.170</td> <td>   11.917</td>\n",
       "</tr>\n",
       "</table>\n",
       "<table class=\"simpletable\">\n",
       "<tr>\n",
       "  <th>Omnibus:</th>       <td> 5.552</td> <th>  Durbin-Watson:     </th> <td>   1.427</td>\n",
       "</tr>\n",
       "<tr>\n",
       "  <th>Prob(Omnibus):</th> <td> 0.062</td> <th>  Jarque-Bera (JB):  </th> <td>   3.481</td>\n",
       "</tr>\n",
       "<tr>\n",
       "  <th>Skew:</th>          <td> 0.946</td> <th>  Prob(JB):          </th> <td>   0.175</td>\n",
       "</tr>\n",
       "<tr>\n",
       "  <th>Kurtosis:</th>      <td> 3.628</td> <th>  Cond. No.          </th> <td>    9.08</td>\n",
       "</tr>\n",
       "</table><br/><br/>Notes:<br/>[1] Standard Errors assume that the covariance matrix of the errors is correctly specified."
      ],
      "text/plain": [
       "<class 'statsmodels.iolib.summary.Summary'>\n",
       "\"\"\"\n",
       "                            OLS Regression Results                            \n",
       "==============================================================================\n",
       "Dep. Variable:                     DT   R-squared:                       0.695\n",
       "Model:                            OLS   Adj. R-squared:                  0.679\n",
       "Method:                 Least Squares   F-statistic:                     43.39\n",
       "Date:                Wed, 15 Jun 2022   Prob (F-statistic):           2.64e-06\n",
       "Time:                        11:11:03   Log-Likelihood:                -50.912\n",
       "No. Observations:                  21   AIC:                             105.8\n",
       "Df Residuals:                      19   BIC:                             107.9\n",
       "Df Model:                           1                                         \n",
       "Covariance Type:            nonrobust                                         \n",
       "==============================================================================\n",
       "                 coef    std err          t      P>|t|      [0.025      0.975]\n",
       "------------------------------------------------------------------------------\n",
       "Intercept      1.1597      2.455      0.472      0.642      -3.978       6.297\n",
       "np.log(ST)     9.0434      1.373      6.587      0.000       6.170      11.917\n",
       "==============================================================================\n",
       "Omnibus:                        5.552   Durbin-Watson:                   1.427\n",
       "Prob(Omnibus):                  0.062   Jarque-Bera (JB):                3.481\n",
       "Skew:                           0.946   Prob(JB):                        0.175\n",
       "Kurtosis:                       3.628   Cond. No.                         9.08\n",
       "==============================================================================\n",
       "\n",
       "Notes:\n",
       "[1] Standard Errors assume that the covariance matrix of the errors is correctly specified.\n",
       "\"\"\""
      ]
     },
     "execution_count": 19,
     "metadata": {},
     "output_type": "execute_result"
    }
   ],
   "source": [
    "model_2.summary()"
   ]
  },
  {
   "cell_type": "code",
   "execution_count": 20,
   "id": "2a4db798",
   "metadata": {
    "ExecuteTime": {
     "end_time": "2022-06-15T05:41:03.630034Z",
     "start_time": "2022-06-15T05:41:03.619041Z"
    }
   },
   "outputs": [
    {
     "data": {
      "text/plain": [
       "0    -0.982913\n",
       "1    -0.196517\n",
       "2     2.386695\n",
       "3     2.969906\n",
       "4     7.017087\n",
       "5    -2.013305\n",
       "6     0.242646\n",
       "7    -1.594889\n",
       "8    -4.082913\n",
       "9    -2.280094\n",
       "10   -0.134933\n",
       "11   -2.946517\n",
       "12   -2.077354\n",
       "13    0.405111\n",
       "14    0.935111\n",
       "15    1.183483\n",
       "16   -3.613305\n",
       "17   -0.647354\n",
       "18    0.571900\n",
       "19   -0.927354\n",
       "20    5.785504\n",
       "dtype: float64"
      ]
     },
     "execution_count": 20,
     "metadata": {},
     "output_type": "execute_result"
    }
   ],
   "source": [
    "model_2.resid"
   ]
  },
  {
   "cell_type": "code",
   "execution_count": 21,
   "id": "b81a6da0",
   "metadata": {
    "ExecuteTime": {
     "end_time": "2022-06-15T05:41:03.654225Z",
     "start_time": "2022-06-15T05:41:03.633394Z"
    }
   },
   "outputs": [
    {
     "data": {
      "text/plain": [
       "0     21.982913\n",
       "1     13.696517\n",
       "2     17.363305\n",
       "3     21.030094\n",
       "4     21.982913\n",
       "5     17.363305\n",
       "6     18.757354\n",
       "7     11.094889\n",
       "8     21.982913\n",
       "9     21.030094\n",
       "10    19.964933\n",
       "11    13.696517\n",
       "12    18.757354\n",
       "13    11.094889\n",
       "14    11.094889\n",
       "15    13.696517\n",
       "16    17.363305\n",
       "17    18.757354\n",
       "18     7.428100\n",
       "19    18.757354\n",
       "20    15.714496\n",
       "dtype: float64"
      ]
     },
     "execution_count": 21,
     "metadata": {},
     "output_type": "execute_result"
    }
   ],
   "source": [
    "pred2=model_2.predict(delivery_time.ST)\n",
    "pred2"
   ]
  },
  {
   "cell_type": "code",
   "execution_count": 22,
   "id": "582e8482",
   "metadata": {
    "ExecuteTime": {
     "end_time": "2022-06-15T05:41:03.670360Z",
     "start_time": "2022-06-15T05:41:03.657850Z"
    }
   },
   "outputs": [
    {
     "data": {
      "text/plain": [
       "10.749542066249484"
      ]
     },
     "execution_count": 22,
     "metadata": {},
     "output_type": "execute_result"
    }
   ],
   "source": [
    "rmse_model2 = np.sqrt(np.mean((np.array(delivery_time['ST'])-np.array(pred2))**2))\n",
    "rmse_model2"
   ]
  },
  {
   "cell_type": "code",
   "execution_count": 23,
   "id": "53b4cb04",
   "metadata": {
    "ExecuteTime": {
     "end_time": "2022-06-15T05:41:03.686268Z",
     "start_time": "2022-06-15T05:41:03.673030Z"
    }
   },
   "outputs": [
    {
     "data": {
      "text/plain": [
       "0.9774469985241836"
      ]
     },
     "execution_count": 23,
     "metadata": {},
     "output_type": "execute_result"
    }
   ],
   "source": [
    "pred2.corr(delivery_time.ST)"
   ]
  },
  {
   "cell_type": "code",
   "execution_count": 24,
   "id": "2c5f00d9",
   "metadata": {
    "ExecuteTime": {
     "end_time": "2022-06-15T05:41:03.717716Z",
     "start_time": "2022-06-15T05:41:03.689734Z"
    }
   },
   "outputs": [
    {
     "data": {
      "text/plain": [
       "Intercept    2.121372\n",
       "ST           0.105552\n",
       "dtype: float64"
      ]
     },
     "execution_count": 24,
     "metadata": {},
     "output_type": "execute_result"
    }
   ],
   "source": [
    "import statsmodels.formula.api as smf\n",
    "model_3 = smf.ols('np.log(DT)~ST',data=delivery_time).fit()\n",
    "model_3.params"
   ]
  },
  {
   "cell_type": "code",
   "execution_count": 25,
   "id": "8c23f1a3",
   "metadata": {
    "ExecuteTime": {
     "end_time": "2022-06-15T05:41:03.746648Z",
     "start_time": "2022-06-15T05:41:03.718705Z"
    }
   },
   "outputs": [
    {
     "data": {
      "text/html": [
       "<table class=\"simpletable\">\n",
       "<caption>OLS Regression Results</caption>\n",
       "<tr>\n",
       "  <th>Dep. Variable:</th>       <td>np.log(DT)</td>    <th>  R-squared:         </th> <td>   0.711</td>\n",
       "</tr>\n",
       "<tr>\n",
       "  <th>Model:</th>                   <td>OLS</td>       <th>  Adj. R-squared:    </th> <td>   0.696</td>\n",
       "</tr>\n",
       "<tr>\n",
       "  <th>Method:</th>             <td>Least Squares</td>  <th>  F-statistic:       </th> <td>   46.73</td>\n",
       "</tr>\n",
       "<tr>\n",
       "  <th>Date:</th>             <td>Wed, 15 Jun 2022</td> <th>  Prob (F-statistic):</th> <td>1.59e-06</td>\n",
       "</tr>\n",
       "<tr>\n",
       "  <th>Time:</th>                 <td>11:11:03</td>     <th>  Log-Likelihood:    </th> <td>  7.7920</td>\n",
       "</tr>\n",
       "<tr>\n",
       "  <th>No. Observations:</th>      <td>    21</td>      <th>  AIC:               </th> <td>  -11.58</td>\n",
       "</tr>\n",
       "<tr>\n",
       "  <th>Df Residuals:</th>          <td>    19</td>      <th>  BIC:               </th> <td>  -9.495</td>\n",
       "</tr>\n",
       "<tr>\n",
       "  <th>Df Model:</th>              <td>     1</td>      <th>                     </th>     <td> </td>   \n",
       "</tr>\n",
       "<tr>\n",
       "  <th>Covariance Type:</th>      <td>nonrobust</td>    <th>                     </th>     <td> </td>   \n",
       "</tr>\n",
       "</table>\n",
       "<table class=\"simpletable\">\n",
       "<tr>\n",
       "      <td></td>         <th>coef</th>     <th>std err</th>      <th>t</th>      <th>P>|t|</th>  <th>[0.025</th>    <th>0.975]</th>  \n",
       "</tr>\n",
       "<tr>\n",
       "  <th>Intercept</th> <td>    2.1214</td> <td>    0.103</td> <td>   20.601</td> <td> 0.000</td> <td>    1.906</td> <td>    2.337</td>\n",
       "</tr>\n",
       "<tr>\n",
       "  <th>ST</th>        <td>    0.1056</td> <td>    0.015</td> <td>    6.836</td> <td> 0.000</td> <td>    0.073</td> <td>    0.138</td>\n",
       "</tr>\n",
       "</table>\n",
       "<table class=\"simpletable\">\n",
       "<tr>\n",
       "  <th>Omnibus:</th>       <td> 1.238</td> <th>  Durbin-Watson:     </th> <td>   1.325</td>\n",
       "</tr>\n",
       "<tr>\n",
       "  <th>Prob(Omnibus):</th> <td> 0.538</td> <th>  Jarque-Bera (JB):  </th> <td>   0.544</td>\n",
       "</tr>\n",
       "<tr>\n",
       "  <th>Skew:</th>          <td> 0.393</td> <th>  Prob(JB):          </th> <td>   0.762</td>\n",
       "</tr>\n",
       "<tr>\n",
       "  <th>Kurtosis:</th>      <td> 3.067</td> <th>  Cond. No.          </th> <td>    18.3</td>\n",
       "</tr>\n",
       "</table><br/><br/>Notes:<br/>[1] Standard Errors assume that the covariance matrix of the errors is correctly specified."
      ],
      "text/plain": [
       "<class 'statsmodels.iolib.summary.Summary'>\n",
       "\"\"\"\n",
       "                            OLS Regression Results                            \n",
       "==============================================================================\n",
       "Dep. Variable:             np.log(DT)   R-squared:                       0.711\n",
       "Model:                            OLS   Adj. R-squared:                  0.696\n",
       "Method:                 Least Squares   F-statistic:                     46.73\n",
       "Date:                Wed, 15 Jun 2022   Prob (F-statistic):           1.59e-06\n",
       "Time:                        11:11:03   Log-Likelihood:                 7.7920\n",
       "No. Observations:                  21   AIC:                            -11.58\n",
       "Df Residuals:                      19   BIC:                            -9.495\n",
       "Df Model:                           1                                         \n",
       "Covariance Type:            nonrobust                                         \n",
       "==============================================================================\n",
       "                 coef    std err          t      P>|t|      [0.025      0.975]\n",
       "------------------------------------------------------------------------------\n",
       "Intercept      2.1214      0.103     20.601      0.000       1.906       2.337\n",
       "ST             0.1056      0.015      6.836      0.000       0.073       0.138\n",
       "==============================================================================\n",
       "Omnibus:                        1.238   Durbin-Watson:                   1.325\n",
       "Prob(Omnibus):                  0.538   Jarque-Bera (JB):                0.544\n",
       "Skew:                           0.393   Prob(JB):                        0.762\n",
       "Kurtosis:                       3.067   Cond. No.                         18.3\n",
       "==============================================================================\n",
       "\n",
       "Notes:\n",
       "[1] Standard Errors assume that the covariance matrix of the errors is correctly specified.\n",
       "\"\"\""
      ]
     },
     "execution_count": 25,
     "metadata": {},
     "output_type": "execute_result"
    }
   ],
   "source": [
    "model_3.summary()"
   ]
  },
  {
   "cell_type": "code",
   "execution_count": 26,
   "id": "884b8d6c",
   "metadata": {
    "ExecuteTime": {
     "end_time": "2022-06-15T05:41:03.782342Z",
     "start_time": "2022-06-15T05:41:03.754358Z"
    }
   },
   "outputs": [
    {
     "data": {
      "text/plain": [
       "0     3.176888\n",
       "1     2.543578\n",
       "2     2.754681\n",
       "3     3.071336\n",
       "4     3.176888\n",
       "5     2.754681\n",
       "6     2.860233\n",
       "7     2.438027\n",
       "8     3.176888\n",
       "9     3.071336\n",
       "10    2.965785\n",
       "11    2.543578\n",
       "12    2.860233\n",
       "13    2.438027\n",
       "14    2.438027\n",
       "15    2.543578\n",
       "16    2.754681\n",
       "17    2.860233\n",
       "18    2.332475\n",
       "19    2.860233\n",
       "20    2.649130\n",
       "dtype: float64"
      ]
     },
     "execution_count": 26,
     "metadata": {},
     "output_type": "execute_result"
    }
   ],
   "source": [
    "pred3 = model_3.predict(delivery_time.ST)\n",
    "pred3"
   ]
  },
  {
   "cell_type": "code",
   "execution_count": 27,
   "id": "eb82bab3",
   "metadata": {
    "ExecuteTime": {
     "end_time": "2022-06-15T05:41:03.807605Z",
     "start_time": "2022-06-15T05:41:03.790763Z"
    }
   },
   "outputs": [
    {
     "data": {
      "text/plain": [
       "4.073146882300726"
      ]
     },
     "execution_count": 27,
     "metadata": {},
     "output_type": "execute_result"
    }
   ],
   "source": [
    "rmse_3 = np.sqrt(np.mean(np.array((delivery_time['ST'])-np.array(pred3))**2))\n",
    "rmse_3"
   ]
  },
  {
   "cell_type": "code",
   "execution_count": 28,
   "id": "b18e8059",
   "metadata": {
    "ExecuteTime": {
     "end_time": "2022-06-15T05:41:03.846929Z",
     "start_time": "2022-06-15T05:41:03.815893Z"
    }
   },
   "outputs": [
    {
     "data": {
      "text/html": [
       "<div>\n",
       "<style scoped>\n",
       "    .dataframe tbody tr th:only-of-type {\n",
       "        vertical-align: middle;\n",
       "    }\n",
       "\n",
       "    .dataframe tbody tr th {\n",
       "        vertical-align: top;\n",
       "    }\n",
       "\n",
       "    .dataframe thead th {\n",
       "        text-align: right;\n",
       "    }\n",
       "</style>\n",
       "<table border=\"1\" class=\"dataframe\">\n",
       "  <thead>\n",
       "    <tr style=\"text-align: right;\">\n",
       "      <th></th>\n",
       "      <th>DT</th>\n",
       "      <th>ST</th>\n",
       "      <th>ST_sq</th>\n",
       "    </tr>\n",
       "  </thead>\n",
       "  <tbody>\n",
       "    <tr>\n",
       "      <th>0</th>\n",
       "      <td>21.00</td>\n",
       "      <td>10</td>\n",
       "      <td>100</td>\n",
       "    </tr>\n",
       "    <tr>\n",
       "      <th>1</th>\n",
       "      <td>13.50</td>\n",
       "      <td>4</td>\n",
       "      <td>16</td>\n",
       "    </tr>\n",
       "    <tr>\n",
       "      <th>2</th>\n",
       "      <td>19.75</td>\n",
       "      <td>6</td>\n",
       "      <td>36</td>\n",
       "    </tr>\n",
       "    <tr>\n",
       "      <th>3</th>\n",
       "      <td>24.00</td>\n",
       "      <td>9</td>\n",
       "      <td>81</td>\n",
       "    </tr>\n",
       "    <tr>\n",
       "      <th>4</th>\n",
       "      <td>29.00</td>\n",
       "      <td>10</td>\n",
       "      <td>100</td>\n",
       "    </tr>\n",
       "    <tr>\n",
       "      <th>5</th>\n",
       "      <td>15.35</td>\n",
       "      <td>6</td>\n",
       "      <td>36</td>\n",
       "    </tr>\n",
       "    <tr>\n",
       "      <th>6</th>\n",
       "      <td>19.00</td>\n",
       "      <td>7</td>\n",
       "      <td>49</td>\n",
       "    </tr>\n",
       "    <tr>\n",
       "      <th>7</th>\n",
       "      <td>9.50</td>\n",
       "      <td>3</td>\n",
       "      <td>9</td>\n",
       "    </tr>\n",
       "    <tr>\n",
       "      <th>8</th>\n",
       "      <td>17.90</td>\n",
       "      <td>10</td>\n",
       "      <td>100</td>\n",
       "    </tr>\n",
       "    <tr>\n",
       "      <th>9</th>\n",
       "      <td>18.75</td>\n",
       "      <td>9</td>\n",
       "      <td>81</td>\n",
       "    </tr>\n",
       "    <tr>\n",
       "      <th>10</th>\n",
       "      <td>19.83</td>\n",
       "      <td>8</td>\n",
       "      <td>64</td>\n",
       "    </tr>\n",
       "    <tr>\n",
       "      <th>11</th>\n",
       "      <td>10.75</td>\n",
       "      <td>4</td>\n",
       "      <td>16</td>\n",
       "    </tr>\n",
       "    <tr>\n",
       "      <th>12</th>\n",
       "      <td>16.68</td>\n",
       "      <td>7</td>\n",
       "      <td>49</td>\n",
       "    </tr>\n",
       "    <tr>\n",
       "      <th>13</th>\n",
       "      <td>11.50</td>\n",
       "      <td>3</td>\n",
       "      <td>9</td>\n",
       "    </tr>\n",
       "    <tr>\n",
       "      <th>14</th>\n",
       "      <td>12.03</td>\n",
       "      <td>3</td>\n",
       "      <td>9</td>\n",
       "    </tr>\n",
       "    <tr>\n",
       "      <th>15</th>\n",
       "      <td>14.88</td>\n",
       "      <td>4</td>\n",
       "      <td>16</td>\n",
       "    </tr>\n",
       "    <tr>\n",
       "      <th>16</th>\n",
       "      <td>13.75</td>\n",
       "      <td>6</td>\n",
       "      <td>36</td>\n",
       "    </tr>\n",
       "    <tr>\n",
       "      <th>17</th>\n",
       "      <td>18.11</td>\n",
       "      <td>7</td>\n",
       "      <td>49</td>\n",
       "    </tr>\n",
       "    <tr>\n",
       "      <th>18</th>\n",
       "      <td>8.00</td>\n",
       "      <td>2</td>\n",
       "      <td>4</td>\n",
       "    </tr>\n",
       "    <tr>\n",
       "      <th>19</th>\n",
       "      <td>17.83</td>\n",
       "      <td>7</td>\n",
       "      <td>49</td>\n",
       "    </tr>\n",
       "    <tr>\n",
       "      <th>20</th>\n",
       "      <td>21.50</td>\n",
       "      <td>5</td>\n",
       "      <td>25</td>\n",
       "    </tr>\n",
       "  </tbody>\n",
       "</table>\n",
       "</div>"
      ],
      "text/plain": [
       "       DT  ST  ST_sq\n",
       "0   21.00  10    100\n",
       "1   13.50   4     16\n",
       "2   19.75   6     36\n",
       "3   24.00   9     81\n",
       "4   29.00  10    100\n",
       "5   15.35   6     36\n",
       "6   19.00   7     49\n",
       "7    9.50   3      9\n",
       "8   17.90  10    100\n",
       "9   18.75   9     81\n",
       "10  19.83   8     64\n",
       "11  10.75   4     16\n",
       "12  16.68   7     49\n",
       "13  11.50   3      9\n",
       "14  12.03   3      9\n",
       "15  14.88   4     16\n",
       "16  13.75   6     36\n",
       "17  18.11   7     49\n",
       "18   8.00   2      4\n",
       "19  17.83   7     49\n",
       "20  21.50   5     25"
      ]
     },
     "execution_count": 28,
     "metadata": {},
     "output_type": "execute_result"
    }
   ],
   "source": [
    "delivery_time[\"ST_sq\"] = delivery_time.ST*delivery_time.ST\n",
    "delivery_time"
   ]
  },
  {
   "cell_type": "code",
   "execution_count": 29,
   "id": "233af07c",
   "metadata": {
    "ExecuteTime": {
     "end_time": "2022-06-15T05:41:03.895351Z",
     "start_time": "2022-06-15T05:41:03.850535Z"
    }
   },
   "outputs": [
    {
     "data": {
      "text/plain": [
       "Intercept    1.699704\n",
       "ST           0.265922\n",
       "ST_sq       -0.012841\n",
       "dtype: float64"
      ]
     },
     "execution_count": 29,
     "metadata": {},
     "output_type": "execute_result"
    }
   ],
   "source": [
    "model_quad=smf.ols(\"np.log(DT)~ST+ST_sq\",data=delivery_time).fit()\n",
    "model_quad.params"
   ]
  },
  {
   "cell_type": "code",
   "execution_count": 30,
   "id": "2ace189f",
   "metadata": {
    "ExecuteTime": {
     "end_time": "2022-06-15T05:41:03.934881Z",
     "start_time": "2022-06-15T05:41:03.896348Z"
    }
   },
   "outputs": [
    {
     "data": {
      "text/html": [
       "<table class=\"simpletable\">\n",
       "<caption>OLS Regression Results</caption>\n",
       "<tr>\n",
       "  <th>Dep. Variable:</th>       <td>np.log(DT)</td>    <th>  R-squared:         </th> <td>   0.765</td>\n",
       "</tr>\n",
       "<tr>\n",
       "  <th>Model:</th>                   <td>OLS</td>       <th>  Adj. R-squared:    </th> <td>   0.739</td>\n",
       "</tr>\n",
       "<tr>\n",
       "  <th>Method:</th>             <td>Least Squares</td>  <th>  F-statistic:       </th> <td>   29.28</td>\n",
       "</tr>\n",
       "<tr>\n",
       "  <th>Date:</th>             <td>Wed, 15 Jun 2022</td> <th>  Prob (F-statistic):</th> <td>2.20e-06</td>\n",
       "</tr>\n",
       "<tr>\n",
       "  <th>Time:</th>                 <td>11:11:03</td>     <th>  Log-Likelihood:    </th> <td>  9.9597</td>\n",
       "</tr>\n",
       "<tr>\n",
       "  <th>No. Observations:</th>      <td>    21</td>      <th>  AIC:               </th> <td>  -13.92</td>\n",
       "</tr>\n",
       "<tr>\n",
       "  <th>Df Residuals:</th>          <td>    18</td>      <th>  BIC:               </th> <td>  -10.79</td>\n",
       "</tr>\n",
       "<tr>\n",
       "  <th>Df Model:</th>              <td>     2</td>      <th>                     </th>     <td> </td>   \n",
       "</tr>\n",
       "<tr>\n",
       "  <th>Covariance Type:</th>      <td>nonrobust</td>    <th>                     </th>     <td> </td>   \n",
       "</tr>\n",
       "</table>\n",
       "<table class=\"simpletable\">\n",
       "<tr>\n",
       "      <td></td>         <th>coef</th>     <th>std err</th>      <th>t</th>      <th>P>|t|</th>  <th>[0.025</th>    <th>0.975]</th>  \n",
       "</tr>\n",
       "<tr>\n",
       "  <th>Intercept</th> <td>    1.6997</td> <td>    0.228</td> <td>    7.441</td> <td> 0.000</td> <td>    1.220</td> <td>    2.180</td>\n",
       "</tr>\n",
       "<tr>\n",
       "  <th>ST</th>        <td>    0.2659</td> <td>    0.080</td> <td>    3.315</td> <td> 0.004</td> <td>    0.097</td> <td>    0.434</td>\n",
       "</tr>\n",
       "<tr>\n",
       "  <th>ST_sq</th>     <td>   -0.0128</td> <td>    0.006</td> <td>   -2.032</td> <td> 0.057</td> <td>   -0.026</td> <td>    0.000</td>\n",
       "</tr>\n",
       "</table>\n",
       "<table class=\"simpletable\">\n",
       "<tr>\n",
       "  <th>Omnibus:</th>       <td> 2.548</td> <th>  Durbin-Watson:     </th> <td>   1.369</td>\n",
       "</tr>\n",
       "<tr>\n",
       "  <th>Prob(Omnibus):</th> <td> 0.280</td> <th>  Jarque-Bera (JB):  </th> <td>   1.777</td>\n",
       "</tr>\n",
       "<tr>\n",
       "  <th>Skew:</th>          <td> 0.708</td> <th>  Prob(JB):          </th> <td>   0.411</td>\n",
       "</tr>\n",
       "<tr>\n",
       "  <th>Kurtosis:</th>      <td> 2.846</td> <th>  Cond. No.          </th> <td>    373.</td>\n",
       "</tr>\n",
       "</table><br/><br/>Notes:<br/>[1] Standard Errors assume that the covariance matrix of the errors is correctly specified."
      ],
      "text/plain": [
       "<class 'statsmodels.iolib.summary.Summary'>\n",
       "\"\"\"\n",
       "                            OLS Regression Results                            \n",
       "==============================================================================\n",
       "Dep. Variable:             np.log(DT)   R-squared:                       0.765\n",
       "Model:                            OLS   Adj. R-squared:                  0.739\n",
       "Method:                 Least Squares   F-statistic:                     29.28\n",
       "Date:                Wed, 15 Jun 2022   Prob (F-statistic):           2.20e-06\n",
       "Time:                        11:11:03   Log-Likelihood:                 9.9597\n",
       "No. Observations:                  21   AIC:                            -13.92\n",
       "Df Residuals:                      18   BIC:                            -10.79\n",
       "Df Model:                           2                                         \n",
       "Covariance Type:            nonrobust                                         \n",
       "==============================================================================\n",
       "                 coef    std err          t      P>|t|      [0.025      0.975]\n",
       "------------------------------------------------------------------------------\n",
       "Intercept      1.6997      0.228      7.441      0.000       1.220       2.180\n",
       "ST             0.2659      0.080      3.315      0.004       0.097       0.434\n",
       "ST_sq         -0.0128      0.006     -2.032      0.057      -0.026       0.000\n",
       "==============================================================================\n",
       "Omnibus:                        2.548   Durbin-Watson:                   1.369\n",
       "Prob(Omnibus):                  0.280   Jarque-Bera (JB):                1.777\n",
       "Skew:                           0.708   Prob(JB):                        0.411\n",
       "Kurtosis:                       2.846   Cond. No.                         373.\n",
       "==============================================================================\n",
       "\n",
       "Notes:\n",
       "[1] Standard Errors assume that the covariance matrix of the errors is correctly specified.\n",
       "\"\"\""
      ]
     },
     "execution_count": 30,
     "metadata": {},
     "output_type": "execute_result"
    }
   ],
   "source": [
    "model_quad.summary()"
   ]
  },
  {
   "cell_type": "code",
   "execution_count": 31,
   "id": "af8f332b",
   "metadata": {
    "ExecuteTime": {
     "end_time": "2022-06-15T05:41:03.966901Z",
     "start_time": "2022-06-15T05:41:03.944126Z"
    }
   },
   "outputs": [
    {
     "data": {
      "text/plain": [
       "0     21.646921\n",
       "1     12.909227\n",
       "2     16.995933\n",
       "3     21.176938\n",
       "4     21.646921\n",
       "5     16.995933\n",
       "6     18.764526\n",
       "7     10.825502\n",
       "8     21.646921\n",
       "9     21.176938\n",
       "10    20.191891\n",
       "11    12.909227\n",
       "12    18.764526\n",
       "13    10.825502\n",
       "14    10.825502\n",
       "15    12.909227\n",
       "16    16.995933\n",
       "17    18.764526\n",
       "18     8.847949\n",
       "19    18.764526\n",
       "20    15.003730\n",
       "dtype: float64"
      ]
     },
     "execution_count": 31,
     "metadata": {},
     "output_type": "execute_result"
    }
   ],
   "source": [
    "pred_quad = model_quad.predict(delivery_time)\n",
    "pred4=np.exp(pred_quad)\n",
    "pred4"
   ]
  },
  {
   "cell_type": "code",
   "execution_count": 32,
   "id": "307cc40a",
   "metadata": {
    "ExecuteTime": {
     "end_time": "2022-06-15T05:41:03.995090Z",
     "start_time": "2022-06-15T05:41:03.974172Z"
    }
   },
   "outputs": [
    {
     "data": {
      "text/plain": [
       "10.549894062750672"
      ]
     },
     "execution_count": 32,
     "metadata": {},
     "output_type": "execute_result"
    }
   ],
   "source": [
    "rmse_quad = np.sqrt(np.mean((np.array(delivery_time['ST'])-np.array(pred4))**2))\n",
    "rmse_quad"
   ]
  },
  {
   "cell_type": "code",
   "execution_count": 33,
   "id": "921eea68",
   "metadata": {
    "ExecuteTime": {
     "end_time": "2022-06-15T05:41:04.280205Z",
     "start_time": "2022-06-15T05:41:03.997104Z"
    },
    "scrolled": false
   },
   "outputs": [
    {
     "data": {
      "text/plain": [
       "[<matplotlib.lines.Line2D at 0x2ad935e9b50>]"
      ]
     },
     "execution_count": 33,
     "metadata": {},
     "output_type": "execute_result"
    },
    {
     "data": {
      "image/png": "[encoded data removed]",
      "text/plain": [
       "<Figure size 432x288 with 1 Axes>"
      ]
     },
     "metadata": {},
     "output_type": "display_data"
    }
   ],
   "source": [
    "plt.scatter(delivery_time.ST,delivery_time.DT,c=\"b\")\n",
    "plt.plot(delivery_time.ST,pred4,\"r\")"
   ]
  },
  {
   "cell_type": "code",
   "execution_count": 34,
   "id": "843cf74f",
   "metadata": {
    "ExecuteTime": {
     "end_time": "2022-06-15T05:41:04.610641Z",
     "start_time": "2022-06-15T05:41:04.283974Z"
    }
   },
   "outputs": [
    {
     "data": {
      "text/plain": [
       "Text(0, 0.5, 'Standardized Residual')"
      ]
     },
     "execution_count": 34,
     "metadata": {},
     "output_type": "execute_result"
    },
    {
     "data": {
      "image/png": "[encoded data removed]",
      "text/plain": [
       "<Figure size 432x288 with 1 Axes>"
      ]
     },
     "metadata": {},
     "output_type": "display_data"
    }
   ],
   "source": [
    "plt.scatter(np.arange(21),model_quad.resid_pearson)\n",
    "plt.axhline(y=0,color='red')\n",
    "plt.xlabel('Sorting Time')\n",
    "plt.ylabel('Standardized Residual')"
   ]
  },
  {
   "cell_type": "code",
   "execution_count": 35,
   "id": "1b695590",
   "metadata": {
    "ExecuteTime": {
     "end_time": "2022-06-15T05:41:04.860537Z",
     "start_time": "2022-06-15T05:41:04.614996Z"
    }
   },
   "outputs": [
    {
     "data": {
      "text/plain": [
       "(array([3., 5., 1., 4., 2., 2., 2., 0., 1., 1.]),\n",
       " array([-1.3029903 , -0.95151236, -0.60003442, -0.24855649,  0.10292145,\n",
       "         0.45439938,  0.80587732,  1.15735525,  1.50883319,  1.86031113,\n",
       "         2.21178906]),\n",
       " <BarContainer object of 10 artists>)"
      ]
     },
     "execution_count": 35,
     "metadata": {},
     "output_type": "execute_result"
    },
    {
     "data": {
      "image/png": "[encoded data removed]",
      "text/plain": [
       "<Figure size 432x288 with 1 Axes>"
      ]
     },
     "metadata": {},
     "output_type": "display_data"
    }
   ],
   "source": [
    "plt.hist(model_quad.resid_pearson)"
   ]
  },
  {
   "cell_type": "code",
   "execution_count": 36,
   "id": "15ec03ae",
   "metadata": {
    "ExecuteTime": {
     "end_time": "2022-06-15T05:41:04.912782Z",
     "start_time": "2022-06-15T05:41:04.863814Z"
    }
   },
   "outputs": [
    {
     "data": {
      "text/html": [
       "<div>\n",
       "<style scoped>\n",
       "    .dataframe tbody tr th:only-of-type {\n",
       "        vertical-align: middle;\n",
       "    }\n",
       "\n",
       "    .dataframe tbody tr th {\n",
       "        vertical-align: top;\n",
       "    }\n",
       "\n",
       "    .dataframe thead th {\n",
       "        text-align: right;\n",
       "    }\n",
       "</style>\n",
       "<table border=\"1\" class=\"dataframe\">\n",
       "  <thead>\n",
       "    <tr style=\"text-align: right;\">\n",
       "      <th></th>\n",
       "      <th>MODEL</th>\n",
       "      <th>RMSE_Values</th>\n",
       "      <th>Rsquare</th>\n",
       "    </tr>\n",
       "  </thead>\n",
       "  <tbody>\n",
       "    <tr>\n",
       "      <th>0</th>\n",
       "      <td>rmse_lin</td>\n",
       "      <td>2.791650</td>\n",
       "      <td>0.682271</td>\n",
       "    </tr>\n",
       "    <tr>\n",
       "      <th>1</th>\n",
       "      <td>rmse_model2</td>\n",
       "      <td>10.749542</td>\n",
       "      <td>0.695443</td>\n",
       "    </tr>\n",
       "    <tr>\n",
       "      <th>2</th>\n",
       "      <td>rmse_3</td>\n",
       "      <td>4.073147</td>\n",
       "      <td>0.710948</td>\n",
       "    </tr>\n",
       "    <tr>\n",
       "      <th>3</th>\n",
       "      <td>rmse_quad</td>\n",
       "      <td>10.549894</td>\n",
       "      <td>0.764867</td>\n",
       "    </tr>\n",
       "  </tbody>\n",
       "</table>\n",
       "</div>"
      ],
      "text/plain": [
       "         MODEL  RMSE_Values   Rsquare\n",
       "0     rmse_lin     2.791650  0.682271\n",
       "1  rmse_model2    10.749542  0.695443\n",
       "2       rmse_3     4.073147  0.710948\n",
       "3    rmse_quad    10.549894  0.764867"
      ]
     },
     "execution_count": 36,
     "metadata": {},
     "output_type": "execute_result"
    }
   ],
   "source": [
    "data = {\"MODEL\":pd.Series([\"rmse_lin\",\"rmse_model2\",\"rmse_3\",\"rmse_quad\"]),\n",
    "        \"RMSE_Values\":pd.Series([rmse_lin,rmse_model2,rmse_3,rmse_quad]),\n",
    "        \"Rsquare\":pd.Series([model_1.rsquared,model_2.rsquared,model_3.rsquared,model_quad.rsquared])}\n",
    "table=pd.DataFrame(data)\n",
    "table"
   ]
  },
  {
   "cell_type": "code",
   "execution_count": 37,
   "id": "f364b961",
   "metadata": {
    "ExecuteTime": {
     "end_time": "2022-06-15T05:41:05.127739Z",
     "start_time": "2022-06-15T05:41:04.915596Z"
    }
   },
   "outputs": [
    {
     "data": {
      "text/plain": [
       "(array([3., 5., 1., 4., 2., 2., 2., 0., 1., 1.]),\n",
       " array([-1.3029903 , -0.95151236, -0.60003442, -0.24855649,  0.10292145,\n",
       "         0.45439938,  0.80587732,  1.15735525,  1.50883319,  1.86031113,\n",
       "         2.21178906]),\n",
       " <BarContainer object of 10 artists>)"
      ]
     },
     "execution_count": 37,
     "metadata": {},
     "output_type": "execute_result"
    },
    {
     "data": {
      "image/png": "[encoded data removed]",
      "text/plain": [
       "<Figure size 432x288 with 1 Axes>"
      ]
     },
     "metadata": {},
     "output_type": "display_data"
    }
   ],
   "source": [
    "plt.hist(model_quad.resid_pearson)"
   ]
  },
  {
   "cell_type": "code",
   "execution_count": 38,
   "id": "7cc5575c",
   "metadata": {
    "ExecuteTime": {
     "end_time": "2022-06-15T05:41:05.482755Z",
     "start_time": "2022-06-15T05:41:05.129732Z"
    }
   },
   "outputs": [
    {
     "data": {
      "text/plain": [
       "[<matplotlib.lines.Line2D at 0x2ad93531580>]"
      ]
     },
     "execution_count": 38,
     "metadata": {},
     "output_type": "execute_result"
    },
    {
     "data": {
      "image/png": "[encoded data removed]",
      "text/plain": [
       "<Figure size 432x288 with 1 Axes>"
      ]
     },
     "metadata": {},
     "output_type": "display_data"
    }
   ],
   "source": [
    "plt.scatter(delivery_time.ST,delivery_time.DT,c=\"b\")\n",
    "plt.plot(delivery_time.ST,pred4,'r')"
   ]
  }
 ],
 "metadata": {
  "gist": {
   "data": {
    "description": "simple_linear.ipynb",
    "public": true
   },
   "id": ""
  },
  "kernelspec": {
   "display_name": "Python 3 (ipykernel)",
   "language": "python",
   "name": "python3"
  },
  "language_info": {
   "codemirror_mode": {
    "name": "ipython",
    "version": 3
   },
   "file_extension": ".py",
   "mimetype": "text/x-python",
   "name": "python",
   "nbconvert_exporter": "python",
   "pygments_lexer": "ipython3",
   "version": "3.9.7"
  }
 },
 "nbformat": 4,
 "nbformat_minor": 5
}
